{
  "cells": [
    {
      "cell_type": "markdown",
      "id": "61534c50-f944-45a1-bc5e-586ada7e289c",
      "metadata": {
        "id": "61534c50-f944-45a1-bc5e-586ada7e289c"
      },
      "source": [
        "# Trabalho final da Disciplina de Inteligência Artificial PPGI 2025\n",
        "## Aluno: Matheus Pereira dos Santos"
      ]
    },
    {
      "cell_type": "markdown",
      "source": [
        "Análise Exploratória\n"
      ],
      "metadata": {
        "id": "N1ndh2jI5fW9"
      },
      "id": "N1ndh2jI5fW9"
    },
    {
      "cell_type": "code",
      "execution_count": 4,
      "id": "e16db774-6c5a-403e-95b8-421537f69ed8",
      "metadata": {
        "id": "e16db774-6c5a-403e-95b8-421537f69ed8"
      },
      "outputs": [],
      "source": [
        "# Importando bibliotecas\n",
        "import pandas as pd\n",
        "import numpy as np\n",
        "import seaborn as sns"
      ]
    },
    {
      "cell_type": "code",
      "execution_count": 5,
      "id": "e2ff0cf7-1f85-4076-a16f-1b00ae872c12",
      "metadata": {
        "editable": true,
        "tags": [],
        "id": "e2ff0cf7-1f85-4076-a16f-1b00ae872c12",
        "outputId": "3de537bd-991b-4ee8-efd4-88866742b9fb",
        "colab": {
          "base_uri": "https://localhost:8080/",
          "height": 382
        }
      },
      "outputs": [
        {
          "output_type": "error",
          "ename": "FileNotFoundError",
          "evalue": "[Errno 2] No such file or directory: 'Despesas_Empenhadas_Liquidadas_e_Pagas.CSV'",
          "traceback": [
            "\u001b[0;31m---------------------------------------------------------------------------\u001b[0m",
            "\u001b[0;31mFileNotFoundError\u001b[0m                         Traceback (most recent call last)",
            "\u001b[0;32m/tmp/ipython-input-5-1865141328.py\u001b[0m in \u001b[0;36m<cell line: 0>\u001b[0;34m()\u001b[0m\n\u001b[1;32m      2\u001b[0m \u001b[0mpd\u001b[0m\u001b[0;34m.\u001b[0m\u001b[0mset_option\u001b[0m\u001b[0;34m(\u001b[0m\u001b[0;34m'display.max_columns'\u001b[0m\u001b[0;34m,\u001b[0m \u001b[0;32mNone\u001b[0m\u001b[0;34m)\u001b[0m\u001b[0;34m\u001b[0m\u001b[0;34m\u001b[0m\u001b[0m\n\u001b[1;32m      3\u001b[0m \u001b[0;31m# Importando base de dados\u001b[0m\u001b[0;34m\u001b[0m\u001b[0;34m\u001b[0m\u001b[0m\n\u001b[0;32m----> 4\u001b[0;31m base_em_uso = pd.read_csv(\n\u001b[0m\u001b[1;32m      5\u001b[0m     \u001b[0;34m'Despesas_Empenhadas_Liquidadas_e_Pagas.CSV'\u001b[0m\u001b[0;34m,\u001b[0m\u001b[0;34m\u001b[0m\u001b[0;34m\u001b[0m\u001b[0m\n\u001b[1;32m      6\u001b[0m     sep=\";\")\n",
            "\u001b[0;32m/usr/local/lib/python3.11/dist-packages/pandas/io/parsers/readers.py\u001b[0m in \u001b[0;36mread_csv\u001b[0;34m(filepath_or_buffer, sep, delimiter, header, names, index_col, usecols, dtype, engine, converters, true_values, false_values, skipinitialspace, skiprows, skipfooter, nrows, na_values, keep_default_na, na_filter, verbose, skip_blank_lines, parse_dates, infer_datetime_format, keep_date_col, date_parser, date_format, dayfirst, cache_dates, iterator, chunksize, compression, thousands, decimal, lineterminator, quotechar, quoting, doublequote, escapechar, comment, encoding, encoding_errors, dialect, on_bad_lines, delim_whitespace, low_memory, memory_map, float_precision, storage_options, dtype_backend)\u001b[0m\n\u001b[1;32m   1024\u001b[0m     \u001b[0mkwds\u001b[0m\u001b[0;34m.\u001b[0m\u001b[0mupdate\u001b[0m\u001b[0;34m(\u001b[0m\u001b[0mkwds_defaults\u001b[0m\u001b[0;34m)\u001b[0m\u001b[0;34m\u001b[0m\u001b[0;34m\u001b[0m\u001b[0m\n\u001b[1;32m   1025\u001b[0m \u001b[0;34m\u001b[0m\u001b[0m\n\u001b[0;32m-> 1026\u001b[0;31m     \u001b[0;32mreturn\u001b[0m \u001b[0m_read\u001b[0m\u001b[0;34m(\u001b[0m\u001b[0mfilepath_or_buffer\u001b[0m\u001b[0;34m,\u001b[0m \u001b[0mkwds\u001b[0m\u001b[0;34m)\u001b[0m\u001b[0;34m\u001b[0m\u001b[0;34m\u001b[0m\u001b[0m\n\u001b[0m\u001b[1;32m   1027\u001b[0m \u001b[0;34m\u001b[0m\u001b[0m\n\u001b[1;32m   1028\u001b[0m \u001b[0;34m\u001b[0m\u001b[0m\n",
            "\u001b[0;32m/usr/local/lib/python3.11/dist-packages/pandas/io/parsers/readers.py\u001b[0m in \u001b[0;36m_read\u001b[0;34m(filepath_or_buffer, kwds)\u001b[0m\n\u001b[1;32m    618\u001b[0m \u001b[0;34m\u001b[0m\u001b[0m\n\u001b[1;32m    619\u001b[0m     \u001b[0;31m# Create the parser.\u001b[0m\u001b[0;34m\u001b[0m\u001b[0;34m\u001b[0m\u001b[0m\n\u001b[0;32m--> 620\u001b[0;31m     \u001b[0mparser\u001b[0m \u001b[0;34m=\u001b[0m \u001b[0mTextFileReader\u001b[0m\u001b[0;34m(\u001b[0m\u001b[0mfilepath_or_buffer\u001b[0m\u001b[0;34m,\u001b[0m \u001b[0;34m**\u001b[0m\u001b[0mkwds\u001b[0m\u001b[0;34m)\u001b[0m\u001b[0;34m\u001b[0m\u001b[0;34m\u001b[0m\u001b[0m\n\u001b[0m\u001b[1;32m    621\u001b[0m \u001b[0;34m\u001b[0m\u001b[0m\n\u001b[1;32m    622\u001b[0m     \u001b[0;32mif\u001b[0m \u001b[0mchunksize\u001b[0m \u001b[0;32mor\u001b[0m \u001b[0miterator\u001b[0m\u001b[0;34m:\u001b[0m\u001b[0;34m\u001b[0m\u001b[0;34m\u001b[0m\u001b[0m\n",
            "\u001b[0;32m/usr/local/lib/python3.11/dist-packages/pandas/io/parsers/readers.py\u001b[0m in \u001b[0;36m__init__\u001b[0;34m(self, f, engine, **kwds)\u001b[0m\n\u001b[1;32m   1618\u001b[0m \u001b[0;34m\u001b[0m\u001b[0m\n\u001b[1;32m   1619\u001b[0m         \u001b[0mself\u001b[0m\u001b[0;34m.\u001b[0m\u001b[0mhandles\u001b[0m\u001b[0;34m:\u001b[0m \u001b[0mIOHandles\u001b[0m \u001b[0;34m|\u001b[0m \u001b[0;32mNone\u001b[0m \u001b[0;34m=\u001b[0m \u001b[0;32mNone\u001b[0m\u001b[0;34m\u001b[0m\u001b[0;34m\u001b[0m\u001b[0m\n\u001b[0;32m-> 1620\u001b[0;31m         \u001b[0mself\u001b[0m\u001b[0;34m.\u001b[0m\u001b[0m_engine\u001b[0m \u001b[0;34m=\u001b[0m \u001b[0mself\u001b[0m\u001b[0;34m.\u001b[0m\u001b[0m_make_engine\u001b[0m\u001b[0;34m(\u001b[0m\u001b[0mf\u001b[0m\u001b[0;34m,\u001b[0m \u001b[0mself\u001b[0m\u001b[0;34m.\u001b[0m\u001b[0mengine\u001b[0m\u001b[0;34m)\u001b[0m\u001b[0;34m\u001b[0m\u001b[0;34m\u001b[0m\u001b[0m\n\u001b[0m\u001b[1;32m   1621\u001b[0m \u001b[0;34m\u001b[0m\u001b[0m\n\u001b[1;32m   1622\u001b[0m     \u001b[0;32mdef\u001b[0m \u001b[0mclose\u001b[0m\u001b[0;34m(\u001b[0m\u001b[0mself\u001b[0m\u001b[0;34m)\u001b[0m \u001b[0;34m->\u001b[0m \u001b[0;32mNone\u001b[0m\u001b[0;34m:\u001b[0m\u001b[0;34m\u001b[0m\u001b[0;34m\u001b[0m\u001b[0m\n",
            "\u001b[0;32m/usr/local/lib/python3.11/dist-packages/pandas/io/parsers/readers.py\u001b[0m in \u001b[0;36m_make_engine\u001b[0;34m(self, f, engine)\u001b[0m\n\u001b[1;32m   1878\u001b[0m                 \u001b[0;32mif\u001b[0m \u001b[0;34m\"b\"\u001b[0m \u001b[0;32mnot\u001b[0m \u001b[0;32min\u001b[0m \u001b[0mmode\u001b[0m\u001b[0;34m:\u001b[0m\u001b[0;34m\u001b[0m\u001b[0;34m\u001b[0m\u001b[0m\n\u001b[1;32m   1879\u001b[0m                     \u001b[0mmode\u001b[0m \u001b[0;34m+=\u001b[0m \u001b[0;34m\"b\"\u001b[0m\u001b[0;34m\u001b[0m\u001b[0;34m\u001b[0m\u001b[0m\n\u001b[0;32m-> 1880\u001b[0;31m             self.handles = get_handle(\n\u001b[0m\u001b[1;32m   1881\u001b[0m                 \u001b[0mf\u001b[0m\u001b[0;34m,\u001b[0m\u001b[0;34m\u001b[0m\u001b[0;34m\u001b[0m\u001b[0m\n\u001b[1;32m   1882\u001b[0m                 \u001b[0mmode\u001b[0m\u001b[0;34m,\u001b[0m\u001b[0;34m\u001b[0m\u001b[0;34m\u001b[0m\u001b[0m\n",
            "\u001b[0;32m/usr/local/lib/python3.11/dist-packages/pandas/io/common.py\u001b[0m in \u001b[0;36mget_handle\u001b[0;34m(path_or_buf, mode, encoding, compression, memory_map, is_text, errors, storage_options)\u001b[0m\n\u001b[1;32m    871\u001b[0m         \u001b[0;32mif\u001b[0m \u001b[0mioargs\u001b[0m\u001b[0;34m.\u001b[0m\u001b[0mencoding\u001b[0m \u001b[0;32mand\u001b[0m \u001b[0;34m\"b\"\u001b[0m \u001b[0;32mnot\u001b[0m \u001b[0;32min\u001b[0m \u001b[0mioargs\u001b[0m\u001b[0;34m.\u001b[0m\u001b[0mmode\u001b[0m\u001b[0;34m:\u001b[0m\u001b[0;34m\u001b[0m\u001b[0;34m\u001b[0m\u001b[0m\n\u001b[1;32m    872\u001b[0m             \u001b[0;31m# Encoding\u001b[0m\u001b[0;34m\u001b[0m\u001b[0;34m\u001b[0m\u001b[0m\n\u001b[0;32m--> 873\u001b[0;31m             handle = open(\n\u001b[0m\u001b[1;32m    874\u001b[0m                 \u001b[0mhandle\u001b[0m\u001b[0;34m,\u001b[0m\u001b[0;34m\u001b[0m\u001b[0;34m\u001b[0m\u001b[0m\n\u001b[1;32m    875\u001b[0m                 \u001b[0mioargs\u001b[0m\u001b[0;34m.\u001b[0m\u001b[0mmode\u001b[0m\u001b[0;34m,\u001b[0m\u001b[0;34m\u001b[0m\u001b[0;34m\u001b[0m\u001b[0m\n",
            "\u001b[0;31mFileNotFoundError\u001b[0m: [Errno 2] No such file or directory: 'Despesas_Empenhadas_Liquidadas_e_Pagas.CSV'"
          ]
        }
      ],
      "source": [
        "# Configurando opcao de visualização do pandas\n",
        "pd.set_option('display.max_columns', None)\n",
        "# Importando base de dados\n",
        "base_em_uso = pd.read_csv(\n",
        "    'Despesas_Empenhadas_Liquidadas_e_Pagas.CSV',\n",
        "    sep=\";\")\n",
        "\n",
        "base_em_uso.columns"
      ]
    },
    {
      "cell_type": "code",
      "execution_count": null,
      "id": "87167e04-0c78-4a7b-af04-74843c212b32",
      "metadata": {
        "editable": true,
        "tags": [],
        "id": "87167e04-0c78-4a7b-af04-74843c212b32"
      },
      "outputs": [],
      "source": [
        "base_despesas_df = base_em_uso.rename(columns={\n",
        "    'Número do empenho': 'empenho_num',\n",
        "    'Ano de exercício': 'ano_exercicio',\n",
        "    'Categoria do empenho': 'empenho_categ',\n",
        "    'Data do empenho': 'empenho_data',\n",
        "    'Histórico do empenho': 'empenho_hist',\n",
        "    'Valor do empenho': 'empenho_val',\n",
        "    'Valor liquidado R$': 'valor_liquid',\n",
        "    'Valor pago R$': 'valor_pago'\n",
        "})\n",
        "base_despesas_df.columns"
      ]
    },
    {
      "cell_type": "code",
      "execution_count": null,
      "id": "77220646-742b-463c-92bb-55601aa02151",
      "metadata": {
        "id": "77220646-742b-463c-92bb-55601aa02151"
      },
      "outputs": [],
      "source": [
        "#Busca valroes nulos\n",
        "base_despesas_df\n"
      ]
    },
    {
      "cell_type": "code",
      "execution_count": null,
      "id": "e458f611-b59b-4c49-b1b5-b76213920e03",
      "metadata": {
        "id": "e458f611-b59b-4c49-b1b5-b76213920e03"
      },
      "outputs": [],
      "source": [
        "base_despesas_df.isna().sum()"
      ]
    },
    {
      "cell_type": "code",
      "execution_count": null,
      "id": "6b9c21f8-8fff-4719-9f8d-6f4136c865e3",
      "metadata": {
        "id": "6b9c21f8-8fff-4719-9f8d-6f4136c865e3"
      },
      "outputs": [],
      "source": [
        "base_despesas_df['empenho_num'].duplicated()"
      ]
    },
    {
      "cell_type": "code",
      "execution_count": null,
      "id": "af649076-a127-40cd-9139-ffe9f2b787a8",
      "metadata": {
        "id": "af649076-a127-40cd-9139-ffe9f2b787a8"
      },
      "outputs": [],
      "source": [
        "# descrevendo a base\n",
        "base_despesas_df.dtypes"
      ]
    },
    {
      "cell_type": "code",
      "execution_count": null,
      "id": "92167dd9-a51f-4a97-8a66-ea6eac8af17e",
      "metadata": {
        "id": "92167dd9-a51f-4a97-8a66-ea6eac8af17e"
      },
      "outputs": [],
      "source": [
        "base_despesas_df.describe()\n",
        "#Buscar valores numéricos"
      ]
    },
    {
      "cell_type": "code",
      "execution_count": null,
      "id": "ce6e6f64-a48c-42a0-bd49-f1c2ff330e56",
      "metadata": {
        "id": "ce6e6f64-a48c-42a0-bd49-f1c2ff330e56"
      },
      "outputs": [],
      "source": [
        "# transforma a coluna de valor de empenho em float64 e faz a mesma para valor líquido e pago\n",
        "base_despesas_df['empenho_val'] = base_despesas_df['empenho_val'].str.strip()\n",
        "base_despesas_df['empenho_val'] = base_despesas_df['empenho_val'].str.replace('R$ ', '').str.replace('.', '').str.replace(',', '.').astype(float)\n"
      ]
    },
    {
      "cell_type": "code",
      "execution_count": null,
      "id": "472fc876-08c2-4ce8-b10c-6953b33aeb64",
      "metadata": {
        "id": "472fc876-08c2-4ce8-b10c-6953b33aeb64"
      },
      "outputs": [],
      "source": [
        "base_despesas_df['valor_liquid'] = base_despesas_df['valor_liquid'].str.strip()\n",
        "base_despesas_df['valor_liquid'] = base_despesas_df['valor_liquid'].str.replace('R$ ', '').str.replace('.', '').str.replace(',', '.').astype(float)"
      ]
    },
    {
      "cell_type": "code",
      "execution_count": null,
      "id": "e1947871-6424-4f7e-91c6-fa229b1d7cc9",
      "metadata": {
        "id": "e1947871-6424-4f7e-91c6-fa229b1d7cc9"
      },
      "outputs": [],
      "source": [
        "base_despesas_df['valor_pago'] = base_despesas_df['valor_pago'].str.strip()\n",
        "base_despesas_df['valor_pago'] = base_despesas_df['valor_pago'].str.replace('R$ ', '').str.replace('.', '').str.replace(',', '.').astype(float)\n",
        "\n",
        "\n",
        "base_despesas_df"
      ]
    },
    {
      "cell_type": "code",
      "execution_count": null,
      "id": "bc122d6e-4a3f-4372-ac01-e8608969ff92",
      "metadata": {
        "id": "bc122d6e-4a3f-4372-ac01-e8608969ff92"
      },
      "outputs": [],
      "source": [
        "base_despesas_df.hist(bins=60, figsize=(20,10))"
      ]
    },
    {
      "cell_type": "code",
      "execution_count": null,
      "id": "fa5ce200-db33-43a7-b01f-9d7bfbc30bbb",
      "metadata": {
        "id": "fa5ce200-db33-43a7-b01f-9d7bfbc30bbb"
      },
      "outputs": [],
      "source": [
        "superior_mil = base_despesas_df[base_despesas_df['valor_pago'] > 1_000]\n",
        "superior_mil[['empenho_num', 'valor_pago']].plot(kind='scatter', x='empenho_num', y='valor_pago')"
      ]
    },
    {
      "cell_type": "code",
      "execution_count": null,
      "id": "e247d5bd-cad1-4606-a118-6779dc18ad84",
      "metadata": {
        "id": "e247d5bd-cad1-4606-a118-6779dc18ad84"
      },
      "outputs": [],
      "source": [
        "superior_milhao = base_despesas_df[base_despesas_df['valor_pago'] > 1_000_000]\n",
        "superior_milhao[['empenho_num', 'valor_pago']].plot(kind='scatter', x='empenho_num', y='valor_pago')"
      ]
    },
    {
      "cell_type": "code",
      "execution_count": null,
      "id": "9ffebb34-7a51-436b-853d-b71155b83629",
      "metadata": {
        "id": "9ffebb34-7a51-436b-853d-b71155b83629"
      },
      "outputs": [],
      "source": [
        "superior_milhao"
      ]
    },
    {
      "cell_type": "code",
      "execution_count": null,
      "id": "893073dd-e0e6-4d6d-8c65-d4b868368806",
      "metadata": {
        "editable": true,
        "tags": [],
        "id": "893073dd-e0e6-4d6d-8c65-d4b868368806"
      },
      "outputs": [],
      "source": [
        "pd.DataFrame(base_despesas_df['empenho_categ'].value_counts()).plot(kind='bar', figsize=[5,2.5])\n",
        "pd.DataFrame(base_despesas_df['ano_exercicio'].value_counts()).plot(kind='bar', figsize=[5,2.5])"
      ]
    },
    {
      "cell_type": "code",
      "source": [
        "base_despesas_df[base_despesas_df['valor_pago'] != base_despesas_df['empenho_val']]['empenho_categ'].value_counts().plot(kind='bar')"
      ],
      "metadata": {
        "id": "Xy1wuoxYyphz"
      },
      "id": "Xy1wuoxYyphz",
      "execution_count": null,
      "outputs": []
    },
    {
      "cell_type": "code",
      "source": [
        "# agregar por períodos\n",
        "#base_despesas_df['empenho_data'] = pd.to_datetime(base_despesas_df['empenho_data'].str.strip(), format='%d/%m/%Y')\n",
        "base_despesas_df_agrupado = base_despesas_df.groupby([pd.Grouper(key='empenho_data', freq='M'), 'empenho_categ'])['empenho_val'].sum().reset_index()"
      ],
      "metadata": {
        "id": "NN56LEcj5kap"
      },
      "id": "NN56LEcj5kap",
      "execution_count": null,
      "outputs": []
    },
    {
      "cell_type": "code",
      "source": [],
      "metadata": {
        "id": "sJ_IOuD_6Ktw"
      },
      "id": "sJ_IOuD_6Ktw",
      "execution_count": null,
      "outputs": []
    }
  ],
  "metadata": {
    "kernelspec": {
      "display_name": "Python 3 (ipykernel)",
      "language": "python",
      "name": "python3"
    },
    "language_info": {
      "codemirror_mode": {
        "name": "ipython",
        "version": 3
      },
      "file_extension": ".py",
      "mimetype": "text/x-python",
      "name": "python",
      "nbconvert_exporter": "python",
      "pygments_lexer": "ipython3",
      "version": "3.13.4"
    },
    "vscode": {
      "interpreter": {
        "hash": "b0fa6594d8f4cbf19f97940f81e996739fb7646882a419484c72d19e05852a7e"
      }
    },
    "colab": {
      "provenance": []
    }
  },
  "nbformat": 4,
  "nbformat_minor": 5
}