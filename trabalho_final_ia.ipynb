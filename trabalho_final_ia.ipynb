{
 "cells": [
  {
   "cell_type": "markdown",
   "id": "61534c50-f944-45a1-bc5e-586ada7e289c",
   "metadata": {},
   "source": [
    "# Trabalho final da Disciplina de Inteligência Artificial PPGI 2025\n",
    "## Aluno: Matheus Pereira dos Santos"
   ]
  },
  {
   "cell_type": "code",
   "execution_count": 1,
   "id": "e16db774-6c5a-403e-95b8-421537f69ed8",
   "metadata": {},
   "outputs": [],
   "source": [
    "# Importando bibliotecas\n",
    "import pandas as pd\n",
    "import numpy as np\n",
    "import seaborn as sns"
   ]
  },
  {
   "cell_type": "code",
   "execution_count": 2,
   "id": "e2ff0cf7-1f85-4076-a16f-1b00ae872c12",
   "metadata": {
    "editable": true,
    "slideshow": {
     "slide_type": ""
    },
    "tags": []
   },
   "outputs": [
    {
     "data": {
      "text/plain": [
       "Index(['Número do empenho', 'Ano de exercício', 'Categoria do empenho',\n",
       "       'Data do empenho', 'Histórico do empenho', 'Valor do empenho',\n",
       "       'Valor liquidado R$', 'Valor pago R$'],\n",
       "      dtype='object')"
      ]
     },
     "execution_count": 2,
     "metadata": {},
     "output_type": "execute_result"
    }
   ],
   "source": [
    "# Configurando opcao de visualização do pandas\n",
    "pd.set_option('display.max_columns', None)\n",
    "# Importando base de dados\n",
    "base_em_uso = pd.read_csv(\n",
    "    'Despesas_Empenhadas_Liquidadas_e_Pagas.CSV',\n",
    "    sep=\";\")\n",
    "\n",
    "base_em_uso.columns"
   ]
  },
  {
   "cell_type": "code",
   "execution_count": 3,
   "id": "87167e04-0c78-4a7b-af04-74843c212b32",
   "metadata": {
    "editable": true,
    "slideshow": {
     "slide_type": ""
    },
    "tags": []
   },
   "outputs": [
    {
     "data": {
      "text/plain": [
       "Index(['empenho_num', 'ano_exercicio', 'empenho_categ', 'empenho_data',\n",
       "       'empenho_hist', 'empenho_val', 'valor_liquid', 'valor_pago'],\n",
       "      dtype='object')"
      ]
     },
     "execution_count": 3,
     "metadata": {},
     "output_type": "execute_result"
    }
   ],
   "source": [
    "base_despesas_df = base_em_uso.rename(columns={\n",
    "    'Número do empenho': 'empenho_num',\n",
    "    'Ano de exercício': 'ano_exercicio',\n",
    "    'Categoria do empenho': 'empenho_categ',\n",
    "    'Data do empenho': 'empenho_data',\n",
    "    'Histórico do empenho': 'empenho_hist',\n",
    "    'Valor do empenho': 'empenho_val',\n",
    "    'Valor liquidado R$': 'valor_liquid',\n",
    "    'Valor pago R$': 'valor_pago'\n",
    "})\n",
    "base_despesas_df.columns"
   ]
  },
  {
   "cell_type": "code",
   "execution_count": 4,
   "id": "77220646-742b-463c-92bb-55601aa02151",
   "metadata": {},
   "outputs": [
    {
     "data": {
      "text/html": [
       "<div>\n",
       "<style scoped>\n",
       "    .dataframe tbody tr th:only-of-type {\n",
       "        vertical-align: middle;\n",
       "    }\n",
       "\n",
       "    .dataframe tbody tr th {\n",
       "        vertical-align: top;\n",
       "    }\n",
       "\n",
       "    .dataframe thead th {\n",
       "        text-align: right;\n",
       "    }\n",
       "</style>\n",
       "<table border=\"1\" class=\"dataframe\">\n",
       "  <thead>\n",
       "    <tr style=\"text-align: right;\">\n",
       "      <th></th>\n",
       "      <th>empenho_num</th>\n",
       "      <th>ano_exercicio</th>\n",
       "      <th>empenho_categ</th>\n",
       "      <th>empenho_data</th>\n",
       "      <th>empenho_hist</th>\n",
       "      <th>empenho_val</th>\n",
       "      <th>valor_liquid</th>\n",
       "      <th>valor_pago</th>\n",
       "    </tr>\n",
       "  </thead>\n",
       "  <tbody>\n",
       "    <tr>\n",
       "      <th>0</th>\n",
       "      <td>4052</td>\n",
       "      <td>2025</td>\n",
       "      <td>PROCESSO</td>\n",
       "      <td>10/06/2025</td>\n",
       "      <td>INSCRIÇÃO E CUSTEIO DE DESPESAS PARA PARTICIP...</td>\n",
       "      <td>R$ 400,00</td>\n",
       "      <td>R$ 400,00</td>\n",
       "      <td>R$ 400,00</td>\n",
       "    </tr>\n",
       "    <tr>\n",
       "      <th>1</th>\n",
       "      <td>3937</td>\n",
       "      <td>2025</td>\n",
       "      <td>DIARIA</td>\n",
       "      <td>03/06/2025</td>\n",
       "      <td>REFERENTE A 5 + 1/2  (CINCO DIÁRIAS E MEIA ) ...</td>\n",
       "      <td>R$ 2.750,00</td>\n",
       "      <td>R$ 2.750,00</td>\n",
       "      <td>R$ 2.750,00</td>\n",
       "    </tr>\n",
       "    <tr>\n",
       "      <th>2</th>\n",
       "      <td>3936</td>\n",
       "      <td>2025</td>\n",
       "      <td>DIARIA</td>\n",
       "      <td>03/06/2025</td>\n",
       "      <td>REFERENTE A 5 + 1/2  (CINCO DIÁRIAS E MEIA ) ...</td>\n",
       "      <td>R$ 4.400,00</td>\n",
       "      <td>R$ 4.400,00</td>\n",
       "      <td>R$ 4.400,00</td>\n",
       "    </tr>\n",
       "    <tr>\n",
       "      <th>3</th>\n",
       "      <td>3741</td>\n",
       "      <td>2025</td>\n",
       "      <td>CREDOR</td>\n",
       "      <td>28/05/2025</td>\n",
       "      <td>REPASSE DE RECURSO REFERENTE À REDE DE SAÚDE ...</td>\n",
       "      <td>R$ 102.000,00</td>\n",
       "      <td>R$ 102.000,00</td>\n",
       "      <td>R$ 102.000,00</td>\n",
       "    </tr>\n",
       "    <tr>\n",
       "      <th>4</th>\n",
       "      <td>3739</td>\n",
       "      <td>2025</td>\n",
       "      <td>FOLHA</td>\n",
       "      <td>28/05/2025</td>\n",
       "      <td>PELA DESPESA DE FOLHA DE PAGAMENTO EMPENHADA ...</td>\n",
       "      <td>R$ 2.090,11</td>\n",
       "      <td>R$ 2.090,11</td>\n",
       "      <td>R$ 2.090,11</td>\n",
       "    </tr>\n",
       "    <tr>\n",
       "      <th>...</th>\n",
       "      <td>...</td>\n",
       "      <td>...</td>\n",
       "      <td>...</td>\n",
       "      <td>...</td>\n",
       "      <td>...</td>\n",
       "      <td>...</td>\n",
       "      <td>...</td>\n",
       "      <td>...</td>\n",
       "    </tr>\n",
       "    <tr>\n",
       "      <th>9995</th>\n",
       "      <td>4308</td>\n",
       "      <td>2024</td>\n",
       "      <td>PROCESSO</td>\n",
       "      <td>30/04/2024</td>\n",
       "      <td>AQUISIÇÃO DE MEDICAMENTOS, PARA ATENDER O DEP...</td>\n",
       "      <td>R$ 62.029,90</td>\n",
       "      <td>R$ 61.558,83</td>\n",
       "      <td>R$ 61.558,83</td>\n",
       "    </tr>\n",
       "    <tr>\n",
       "      <th>9996</th>\n",
       "      <td>4307</td>\n",
       "      <td>2024</td>\n",
       "      <td>PROCESSO</td>\n",
       "      <td>30/04/2024</td>\n",
       "      <td>AQUISIÇÃO DE ALIMENTOS, PARA ATENDER A ASSIST...</td>\n",
       "      <td>R$ 2.005,00</td>\n",
       "      <td>R$ 2.005,00</td>\n",
       "      <td>R$ 2.005,00</td>\n",
       "    </tr>\n",
       "    <tr>\n",
       "      <th>9997</th>\n",
       "      <td>4306</td>\n",
       "      <td>2024</td>\n",
       "      <td>CREDOR</td>\n",
       "      <td>30/04/2024</td>\n",
       "      <td>Aquisição de 12 (doze), caixas do medicamento...</td>\n",
       "      <td>R$ 2.100,00</td>\n",
       "      <td>R$ 2.100,00</td>\n",
       "      <td>R$ 2.100,00</td>\n",
       "    </tr>\n",
       "    <tr>\n",
       "      <th>9998</th>\n",
       "      <td>4305</td>\n",
       "      <td>2024</td>\n",
       "      <td>CREDOR</td>\n",
       "      <td>29/04/2024</td>\n",
       "      <td>PELA DESPESA DE FOLHA DE PAGAMENTO EMPENHADA ...</td>\n",
       "      <td>R$ 60.522,63</td>\n",
       "      <td>R$ 60.522,63</td>\n",
       "      <td>R$ 60.522,63</td>\n",
       "    </tr>\n",
       "    <tr>\n",
       "      <th>9999</th>\n",
       "      <td>4304</td>\n",
       "      <td>2024</td>\n",
       "      <td>CREDOR</td>\n",
       "      <td>29/04/2024</td>\n",
       "      <td>COMPLEMENTAÇÃO DO PISO DE ENFERMAGEM - CABRIL...</td>\n",
       "      <td>R$ 26.525,47</td>\n",
       "      <td>R$ 26.525,47</td>\n",
       "      <td>R$ 26.525,47</td>\n",
       "    </tr>\n",
       "  </tbody>\n",
       "</table>\n",
       "<p>10000 rows × 8 columns</p>\n",
       "</div>"
      ],
      "text/plain": [
       "      empenho_num  ano_exercicio empenho_categ empenho_data  \\\n",
       "0            4052           2025      PROCESSO   10/06/2025   \n",
       "1            3937           2025        DIARIA   03/06/2025   \n",
       "2            3936           2025        DIARIA   03/06/2025   \n",
       "3            3741           2025        CREDOR   28/05/2025   \n",
       "4            3739           2025         FOLHA   28/05/2025   \n",
       "...           ...            ...           ...          ...   \n",
       "9995         4308           2024      PROCESSO   30/04/2024   \n",
       "9996         4307           2024      PROCESSO   30/04/2024   \n",
       "9997         4306           2024        CREDOR   30/04/2024   \n",
       "9998         4305           2024        CREDOR   29/04/2024   \n",
       "9999         4304           2024        CREDOR   29/04/2024   \n",
       "\n",
       "                                           empenho_hist     empenho_val  \\\n",
       "0      INSCRIÇÃO E CUSTEIO DE DESPESAS PARA PARTICIP...       R$ 400,00   \n",
       "1      REFERENTE A 5 + 1/2  (CINCO DIÁRIAS E MEIA ) ...     R$ 2.750,00   \n",
       "2      REFERENTE A 5 + 1/2  (CINCO DIÁRIAS E MEIA ) ...     R$ 4.400,00   \n",
       "3      REPASSE DE RECURSO REFERENTE À REDE DE SAÚDE ...   R$ 102.000,00   \n",
       "4      PELA DESPESA DE FOLHA DE PAGAMENTO EMPENHADA ...     R$ 2.090,11   \n",
       "...                                                 ...             ...   \n",
       "9995   AQUISIÇÃO DE MEDICAMENTOS, PARA ATENDER O DEP...    R$ 62.029,90   \n",
       "9996   AQUISIÇÃO DE ALIMENTOS, PARA ATENDER A ASSIST...     R$ 2.005,00   \n",
       "9997   Aquisição de 12 (doze), caixas do medicamento...     R$ 2.100,00   \n",
       "9998   PELA DESPESA DE FOLHA DE PAGAMENTO EMPENHADA ...    R$ 60.522,63   \n",
       "9999   COMPLEMENTAÇÃO DO PISO DE ENFERMAGEM - CABRIL...    R$ 26.525,47   \n",
       "\n",
       "        valor_liquid      valor_pago  \n",
       "0          R$ 400,00       R$ 400,00  \n",
       "1        R$ 2.750,00     R$ 2.750,00  \n",
       "2        R$ 4.400,00     R$ 4.400,00  \n",
       "3      R$ 102.000,00   R$ 102.000,00  \n",
       "4        R$ 2.090,11     R$ 2.090,11  \n",
       "...              ...             ...  \n",
       "9995    R$ 61.558,83    R$ 61.558,83  \n",
       "9996     R$ 2.005,00     R$ 2.005,00  \n",
       "9997     R$ 2.100,00     R$ 2.100,00  \n",
       "9998    R$ 60.522,63    R$ 60.522,63  \n",
       "9999    R$ 26.525,47    R$ 26.525,47  \n",
       "\n",
       "[10000 rows x 8 columns]"
      ]
     },
     "execution_count": 4,
     "metadata": {},
     "output_type": "execute_result"
    }
   ],
   "source": [
    "#Busca valroes nulos\n",
    "base_despesas_df\n"
   ]
  },
  {
   "cell_type": "code",
   "execution_count": 5,
   "id": "e458f611-b59b-4c49-b1b5-b76213920e03",
   "metadata": {},
   "outputs": [
    {
     "data": {
      "text/plain": [
       "empenho_num      0\n",
       "ano_exercicio    0\n",
       "empenho_categ    0\n",
       "empenho_data     0\n",
       "empenho_hist     0\n",
       "empenho_val      0\n",
       "valor_liquid     0\n",
       "valor_pago       0\n",
       "dtype: int64"
      ]
     },
     "execution_count": 5,
     "metadata": {},
     "output_type": "execute_result"
    }
   ],
   "source": [
    "base_despesas_df.isna().sum()"
   ]
  },
  {
   "cell_type": "code",
   "execution_count": 6,
   "id": "6b9c21f8-8fff-4719-9f8d-6f4136c865e3",
   "metadata": {},
   "outputs": [
    {
     "data": {
      "text/plain": [
       "0       False\n",
       "1       False\n",
       "2       False\n",
       "3       False\n",
       "4       False\n",
       "        ...  \n",
       "9995    False\n",
       "9996    False\n",
       "9997    False\n",
       "9998    False\n",
       "9999    False\n",
       "Name: empenho_num, Length: 10000, dtype: bool"
      ]
     },
     "execution_count": 6,
     "metadata": {},
     "output_type": "execute_result"
    }
   ],
   "source": [
    "base_despesas_df['empenho_num'].duplicated()"
   ]
  },
  {
   "cell_type": "code",
   "execution_count": 7,
   "id": "af649076-a127-40cd-9139-ffe9f2b787a8",
   "metadata": {},
   "outputs": [
    {
     "data": {
      "text/plain": [
       "empenho_num       int64\n",
       "ano_exercicio     int64\n",
       "empenho_categ    object\n",
       "empenho_data     object\n",
       "empenho_hist     object\n",
       "empenho_val      object\n",
       "valor_liquid     object\n",
       "valor_pago       object\n",
       "dtype: object"
      ]
     },
     "execution_count": 7,
     "metadata": {},
     "output_type": "execute_result"
    }
   ],
   "source": [
    "# descrevendo a base\n",
    "base_despesas_df.dtypes"
   ]
  },
  {
   "cell_type": "code",
   "execution_count": 8,
   "id": "92167dd9-a51f-4a97-8a66-ea6eac8af17e",
   "metadata": {},
   "outputs": [
    {
     "data": {
      "text/html": [
       "<div>\n",
       "<style scoped>\n",
       "    .dataframe tbody tr th:only-of-type {\n",
       "        vertical-align: middle;\n",
       "    }\n",
       "\n",
       "    .dataframe tbody tr th {\n",
       "        vertical-align: top;\n",
       "    }\n",
       "\n",
       "    .dataframe thead th {\n",
       "        text-align: right;\n",
       "    }\n",
       "</style>\n",
       "<table border=\"1\" class=\"dataframe\">\n",
       "  <thead>\n",
       "    <tr style=\"text-align: right;\">\n",
       "      <th></th>\n",
       "      <th>empenho_num</th>\n",
       "      <th>ano_exercicio</th>\n",
       "    </tr>\n",
       "  </thead>\n",
       "  <tbody>\n",
       "    <tr>\n",
       "      <th>count</th>\n",
       "      <td>10000.000000</td>\n",
       "      <td>10000.000000</td>\n",
       "    </tr>\n",
       "    <tr>\n",
       "      <th>mean</th>\n",
       "      <td>6106.587000</td>\n",
       "      <td>2024.304700</td>\n",
       "    </tr>\n",
       "    <tr>\n",
       "      <th>std</th>\n",
       "      <td>3366.118879</td>\n",
       "      <td>0.460303</td>\n",
       "    </tr>\n",
       "    <tr>\n",
       "      <th>min</th>\n",
       "      <td>1.000000</td>\n",
       "      <td>2024.000000</td>\n",
       "    </tr>\n",
       "    <tr>\n",
       "      <th>25%</th>\n",
       "      <td>3011.750000</td>\n",
       "      <td>2024.000000</td>\n",
       "    </tr>\n",
       "    <tr>\n",
       "      <th>50%</th>\n",
       "      <td>6323.500000</td>\n",
       "      <td>2024.000000</td>\n",
       "    </tr>\n",
       "    <tr>\n",
       "      <th>75%</th>\n",
       "      <td>8979.250000</td>\n",
       "      <td>2025.000000</td>\n",
       "    </tr>\n",
       "    <tr>\n",
       "      <th>max</th>\n",
       "      <td>11780.000000</td>\n",
       "      <td>2025.000000</td>\n",
       "    </tr>\n",
       "  </tbody>\n",
       "</table>\n",
       "</div>"
      ],
      "text/plain": [
       "        empenho_num  ano_exercicio\n",
       "count  10000.000000   10000.000000\n",
       "mean    6106.587000    2024.304700\n",
       "std     3366.118879       0.460303\n",
       "min        1.000000    2024.000000\n",
       "25%     3011.750000    2024.000000\n",
       "50%     6323.500000    2024.000000\n",
       "75%     8979.250000    2025.000000\n",
       "max    11780.000000    2025.000000"
      ]
     },
     "execution_count": 8,
     "metadata": {},
     "output_type": "execute_result"
    }
   ],
   "source": [
    "base_despesas_df.describe()\n",
    "#Buscar valores numéricos"
   ]
  },
  {
   "cell_type": "code",
   "execution_count": 9,
   "id": "ce6e6f64-a48c-42a0-bd49-f1c2ff330e56",
   "metadata": {},
   "outputs": [],
   "source": [
    "# transforma a coluna de valor de empenho em float64 e faz a mesma para valor líquido e pago\n",
    "base_despesas_df['empenho_val'] = base_despesas_df['empenho_val'].str.strip()\n",
    "base_despesas_df['empenho_val'] = base_despesas_df['empenho_val'].str.replace('R$ ', '').str.replace('.', '').str.replace(',', '.').astype(float)\n"
   ]
  },
  {
   "cell_type": "code",
   "execution_count": 10,
   "id": "472fc876-08c2-4ce8-b10c-6953b33aeb64",
   "metadata": {},
   "outputs": [],
   "source": [
    "base_despesas_df['valor_liquid'] = base_despesas_df['valor_liquid'].str.strip()\n",
    "base_despesas_df['valor_liquid'] = base_despesas_df['valor_liquid'].str.replace('R$ ', '').str.replace('.', '').str.replace(',', '.').astype(float)"
   ]
  },
  {
   "cell_type": "code",
   "execution_count": 11,
   "id": "e1947871-6424-4f7e-91c6-fa229b1d7cc9",
   "metadata": {},
   "outputs": [
    {
     "data": {
      "text/html": [
       "<div>\n",
       "<style scoped>\n",
       "    .dataframe tbody tr th:only-of-type {\n",
       "        vertical-align: middle;\n",
       "    }\n",
       "\n",
       "    .dataframe tbody tr th {\n",
       "        vertical-align: top;\n",
       "    }\n",
       "\n",
       "    .dataframe thead th {\n",
       "        text-align: right;\n",
       "    }\n",
       "</style>\n",
       "<table border=\"1\" class=\"dataframe\">\n",
       "  <thead>\n",
       "    <tr style=\"text-align: right;\">\n",
       "      <th></th>\n",
       "      <th>empenho_num</th>\n",
       "      <th>ano_exercicio</th>\n",
       "      <th>empenho_categ</th>\n",
       "      <th>empenho_data</th>\n",
       "      <th>empenho_hist</th>\n",
       "      <th>empenho_val</th>\n",
       "      <th>valor_liquid</th>\n",
       "      <th>valor_pago</th>\n",
       "    </tr>\n",
       "  </thead>\n",
       "  <tbody>\n",
       "    <tr>\n",
       "      <th>0</th>\n",
       "      <td>4052</td>\n",
       "      <td>2025</td>\n",
       "      <td>PROCESSO</td>\n",
       "      <td>10/06/2025</td>\n",
       "      <td>INSCRIÇÃO E CUSTEIO DE DESPESAS PARA PARTICIP...</td>\n",
       "      <td>400.00</td>\n",
       "      <td>400.00</td>\n",
       "      <td>400.00</td>\n",
       "    </tr>\n",
       "    <tr>\n",
       "      <th>1</th>\n",
       "      <td>3937</td>\n",
       "      <td>2025</td>\n",
       "      <td>DIARIA</td>\n",
       "      <td>03/06/2025</td>\n",
       "      <td>REFERENTE A 5 + 1/2  (CINCO DIÁRIAS E MEIA ) ...</td>\n",
       "      <td>2750.00</td>\n",
       "      <td>2750.00</td>\n",
       "      <td>2750.00</td>\n",
       "    </tr>\n",
       "    <tr>\n",
       "      <th>2</th>\n",
       "      <td>3936</td>\n",
       "      <td>2025</td>\n",
       "      <td>DIARIA</td>\n",
       "      <td>03/06/2025</td>\n",
       "      <td>REFERENTE A 5 + 1/2  (CINCO DIÁRIAS E MEIA ) ...</td>\n",
       "      <td>4400.00</td>\n",
       "      <td>4400.00</td>\n",
       "      <td>4400.00</td>\n",
       "    </tr>\n",
       "    <tr>\n",
       "      <th>3</th>\n",
       "      <td>3741</td>\n",
       "      <td>2025</td>\n",
       "      <td>CREDOR</td>\n",
       "      <td>28/05/2025</td>\n",
       "      <td>REPASSE DE RECURSO REFERENTE À REDE DE SAÚDE ...</td>\n",
       "      <td>102000.00</td>\n",
       "      <td>102000.00</td>\n",
       "      <td>102000.00</td>\n",
       "    </tr>\n",
       "    <tr>\n",
       "      <th>4</th>\n",
       "      <td>3739</td>\n",
       "      <td>2025</td>\n",
       "      <td>FOLHA</td>\n",
       "      <td>28/05/2025</td>\n",
       "      <td>PELA DESPESA DE FOLHA DE PAGAMENTO EMPENHADA ...</td>\n",
       "      <td>2090.11</td>\n",
       "      <td>2090.11</td>\n",
       "      <td>2090.11</td>\n",
       "    </tr>\n",
       "    <tr>\n",
       "      <th>...</th>\n",
       "      <td>...</td>\n",
       "      <td>...</td>\n",
       "      <td>...</td>\n",
       "      <td>...</td>\n",
       "      <td>...</td>\n",
       "      <td>...</td>\n",
       "      <td>...</td>\n",
       "      <td>...</td>\n",
       "    </tr>\n",
       "    <tr>\n",
       "      <th>9995</th>\n",
       "      <td>4308</td>\n",
       "      <td>2024</td>\n",
       "      <td>PROCESSO</td>\n",
       "      <td>30/04/2024</td>\n",
       "      <td>AQUISIÇÃO DE MEDICAMENTOS, PARA ATENDER O DEP...</td>\n",
       "      <td>62029.90</td>\n",
       "      <td>61558.83</td>\n",
       "      <td>61558.83</td>\n",
       "    </tr>\n",
       "    <tr>\n",
       "      <th>9996</th>\n",
       "      <td>4307</td>\n",
       "      <td>2024</td>\n",
       "      <td>PROCESSO</td>\n",
       "      <td>30/04/2024</td>\n",
       "      <td>AQUISIÇÃO DE ALIMENTOS, PARA ATENDER A ASSIST...</td>\n",
       "      <td>2005.00</td>\n",
       "      <td>2005.00</td>\n",
       "      <td>2005.00</td>\n",
       "    </tr>\n",
       "    <tr>\n",
       "      <th>9997</th>\n",
       "      <td>4306</td>\n",
       "      <td>2024</td>\n",
       "      <td>CREDOR</td>\n",
       "      <td>30/04/2024</td>\n",
       "      <td>Aquisição de 12 (doze), caixas do medicamento...</td>\n",
       "      <td>2100.00</td>\n",
       "      <td>2100.00</td>\n",
       "      <td>2100.00</td>\n",
       "    </tr>\n",
       "    <tr>\n",
       "      <th>9998</th>\n",
       "      <td>4305</td>\n",
       "      <td>2024</td>\n",
       "      <td>CREDOR</td>\n",
       "      <td>29/04/2024</td>\n",
       "      <td>PELA DESPESA DE FOLHA DE PAGAMENTO EMPENHADA ...</td>\n",
       "      <td>60522.63</td>\n",
       "      <td>60522.63</td>\n",
       "      <td>60522.63</td>\n",
       "    </tr>\n",
       "    <tr>\n",
       "      <th>9999</th>\n",
       "      <td>4304</td>\n",
       "      <td>2024</td>\n",
       "      <td>CREDOR</td>\n",
       "      <td>29/04/2024</td>\n",
       "      <td>COMPLEMENTAÇÃO DO PISO DE ENFERMAGEM - CABRIL...</td>\n",
       "      <td>26525.47</td>\n",
       "      <td>26525.47</td>\n",
       "      <td>26525.47</td>\n",
       "    </tr>\n",
       "  </tbody>\n",
       "</table>\n",
       "<p>10000 rows × 8 columns</p>\n",
       "</div>"
      ],
      "text/plain": [
       "      empenho_num  ano_exercicio empenho_categ empenho_data  \\\n",
       "0            4052           2025      PROCESSO   10/06/2025   \n",
       "1            3937           2025        DIARIA   03/06/2025   \n",
       "2            3936           2025        DIARIA   03/06/2025   \n",
       "3            3741           2025        CREDOR   28/05/2025   \n",
       "4            3739           2025         FOLHA   28/05/2025   \n",
       "...           ...            ...           ...          ...   \n",
       "9995         4308           2024      PROCESSO   30/04/2024   \n",
       "9996         4307           2024      PROCESSO   30/04/2024   \n",
       "9997         4306           2024        CREDOR   30/04/2024   \n",
       "9998         4305           2024        CREDOR   29/04/2024   \n",
       "9999         4304           2024        CREDOR   29/04/2024   \n",
       "\n",
       "                                           empenho_hist  empenho_val  \\\n",
       "0      INSCRIÇÃO E CUSTEIO DE DESPESAS PARA PARTICIP...       400.00   \n",
       "1      REFERENTE A 5 + 1/2  (CINCO DIÁRIAS E MEIA ) ...      2750.00   \n",
       "2      REFERENTE A 5 + 1/2  (CINCO DIÁRIAS E MEIA ) ...      4400.00   \n",
       "3      REPASSE DE RECURSO REFERENTE À REDE DE SAÚDE ...    102000.00   \n",
       "4      PELA DESPESA DE FOLHA DE PAGAMENTO EMPENHADA ...      2090.11   \n",
       "...                                                 ...          ...   \n",
       "9995   AQUISIÇÃO DE MEDICAMENTOS, PARA ATENDER O DEP...     62029.90   \n",
       "9996   AQUISIÇÃO DE ALIMENTOS, PARA ATENDER A ASSIST...      2005.00   \n",
       "9997   Aquisição de 12 (doze), caixas do medicamento...      2100.00   \n",
       "9998   PELA DESPESA DE FOLHA DE PAGAMENTO EMPENHADA ...     60522.63   \n",
       "9999   COMPLEMENTAÇÃO DO PISO DE ENFERMAGEM - CABRIL...     26525.47   \n",
       "\n",
       "      valor_liquid  valor_pago  \n",
       "0           400.00      400.00  \n",
       "1          2750.00     2750.00  \n",
       "2          4400.00     4400.00  \n",
       "3        102000.00   102000.00  \n",
       "4          2090.11     2090.11  \n",
       "...            ...         ...  \n",
       "9995      61558.83    61558.83  \n",
       "9996       2005.00     2005.00  \n",
       "9997       2100.00     2100.00  \n",
       "9998      60522.63    60522.63  \n",
       "9999      26525.47    26525.47  \n",
       "\n",
       "[10000 rows x 8 columns]"
      ]
     },
     "execution_count": 11,
     "metadata": {},
     "output_type": "execute_result"
    }
   ],
   "source": [
    "base_despesas_df['valor_pago'] = base_despesas_df['valor_pago'].str.strip()\n",
    "base_despesas_df['valor_pago'] = base_despesas_df['valor_pago'].str.replace('R$ ', '').str.replace('.', '').str.replace(',', '.').astype(float)\n",
    "\n",
    "\n",
    "base_despesas_df"
   ]
  },
  {
   "cell_type": "code",
   "execution_count": 12,
   "id": "bc122d6e-4a3f-4372-ac01-e8608969ff92",
   "metadata": {},
   "outputs": [
    {
     "data": {
      "text/plain": [
       "array([[<Axes: title={'center': 'empenho_num'}>,\n",
       "        <Axes: title={'center': 'ano_exercicio'}>],\n",
       "       [<Axes: title={'center': 'empenho_val'}>,\n",
       "        <Axes: title={'center': 'valor_liquid'}>],\n",
       "       [<Axes: title={'center': 'valor_pago'}>, <Axes: >]], dtype=object)"
      ]
     },
     "execution_count": 12,
     "metadata": {},
     "output_type": "execute_result"
    },
    {
     "data": {
      "image/png": "[encoded data removed]",
      "text/plain": [
       "<Figure size 2000x1000 with 6 Axes>"
      ]
     },
     "metadata": {},
     "output_type": "display_data"
    }
   ],
   "source": [
    "base_despesas_df.hist(bins=60, figsize=(20,10))"
   ]
  },
  {
   "cell_type": "code",
   "execution_count": 13,
   "id": "fa5ce200-db33-43a7-b01f-9d7bfbc30bbb",
   "metadata": {},
   "outputs": [
    {
     "data": {
      "text/plain": [
       "<Axes: xlabel='empenho_num', ylabel='valor_pago'>"
      ]
     },
     "execution_count": 13,
     "metadata": {},
     "output_type": "execute_result"
    },
    {
     "data": {
      "image/png": "[encoded data removed]",
      "text/plain": [
       "<Figure size 640x480 with 1 Axes>"
      ]
     },
     "metadata": {},
     "output_type": "display_data"
    }
   ],
   "source": [
    "superior_mil = base_despesas_df[base_despesas_df['valor_pago'] > 1_000]\n",
    "superior_mil[['empenho_num', 'valor_pago']].plot(kind='scatter', x='empenho_num', y='valor_pago')"
   ]
  },
  {
   "cell_type": "code",
   "execution_count": 14,
   "id": "e247d5bd-cad1-4606-a118-6779dc18ad84",
   "metadata": {},
   "outputs": [
    {
     "data": {
      "text/plain": [
       "<Axes: xlabel='empenho_num', ylabel='valor_pago'>"
      ]
     },
     "execution_count": 14,
     "metadata": {},
     "output_type": "execute_result"
    },
    {
     "data": {
      "image/png": "[encoded data removed]",
      "text/plain": [
       "<Figure size 640x480 with 1 Axes>"
      ]
     },
     "metadata": {},
     "output_type": "display_data"
    }
   ],
   "source": [
    "superior_milhao = base_despesas_df[base_despesas_df['valor_pago'] > 1_000_000]\n",
    "superior_milhao[['empenho_num', 'valor_pago']].plot(kind='scatter', x='empenho_num', y='valor_pago')"
   ]
  },
  {
   "cell_type": "code",
   "execution_count": 15,
   "id": "9ffebb34-7a51-436b-853d-b71155b83629",
   "metadata": {},
   "outputs": [
    {
     "data": {
      "text/html": [
       "<div>\n",
       "<style scoped>\n",
       "    .dataframe tbody tr th:only-of-type {\n",
       "        vertical-align: middle;\n",
       "    }\n",
       "\n",
       "    .dataframe tbody tr th {\n",
       "        vertical-align: top;\n",
       "    }\n",
       "\n",
       "    .dataframe thead th {\n",
       "        text-align: right;\n",
       "    }\n",
       "</style>\n",
       "<table border=\"1\" class=\"dataframe\">\n",
       "  <thead>\n",
       "    <tr style=\"text-align: right;\">\n",
       "      <th></th>\n",
       "      <th>empenho_num</th>\n",
       "      <th>ano_exercicio</th>\n",
       "      <th>empenho_categ</th>\n",
       "      <th>empenho_data</th>\n",
       "      <th>empenho_hist</th>\n",
       "      <th>empenho_val</th>\n",
       "      <th>valor_liquid</th>\n",
       "      <th>valor_pago</th>\n",
       "    </tr>\n",
       "  </thead>\n",
       "  <tbody>\n",
       "    <tr>\n",
       "      <th>750</th>\n",
       "      <td>2795</td>\n",
       "      <td>2025</td>\n",
       "      <td>CREDOR</td>\n",
       "      <td>25/04/2025</td>\n",
       "      <td>REFERENTE AO RECOLHIMENTO DE GUIA - PRECATÓRI...</td>\n",
       "      <td>4100000.00</td>\n",
       "      <td>4100000.00</td>\n",
       "      <td>4100000.00</td>\n",
       "    </tr>\n",
       "    <tr>\n",
       "      <th>3534</th>\n",
       "      <td>11204</td>\n",
       "      <td>2024</td>\n",
       "      <td>FOLHA</td>\n",
       "      <td>19/12/2024</td>\n",
       "      <td>PELA DESPESA DE FOLHA DE PAGAMENTO EMPENHADA ...</td>\n",
       "      <td>1008285.77</td>\n",
       "      <td>1008285.77</td>\n",
       "      <td>1008285.77</td>\n",
       "    </tr>\n",
       "    <tr>\n",
       "      <th>3598</th>\n",
       "      <td>11140</td>\n",
       "      <td>2024</td>\n",
       "      <td>FOLHA</td>\n",
       "      <td>19/12/2024</td>\n",
       "      <td>PELA DESPESA DE FOLHA DE PAGAMENTO EMPENHADA ...</td>\n",
       "      <td>1291928.40</td>\n",
       "      <td>1291928.40</td>\n",
       "      <td>1291928.40</td>\n",
       "    </tr>\n",
       "    <tr>\n",
       "      <th>3599</th>\n",
       "      <td>11139</td>\n",
       "      <td>2024</td>\n",
       "      <td>PRECATORIO</td>\n",
       "      <td>18/12/2024</td>\n",
       "      <td>PRECATÓRIOS 2024.</td>\n",
       "      <td>2741343.50</td>\n",
       "      <td>2741343.50</td>\n",
       "      <td>2741343.50</td>\n",
       "    </tr>\n",
       "    <tr>\n",
       "      <th>7354</th>\n",
       "      <td>7058</td>\n",
       "      <td>2024</td>\n",
       "      <td>FOLHA</td>\n",
       "      <td>30/07/2024</td>\n",
       "      <td>PELA DESPESA DE FOLHA DE PAGAMENTO EMPENHADA ...</td>\n",
       "      <td>1026816.49</td>\n",
       "      <td>1026816.49</td>\n",
       "      <td>1026816.49</td>\n",
       "    </tr>\n",
       "  </tbody>\n",
       "</table>\n",
       "</div>"
      ],
      "text/plain": [
       "      empenho_num  ano_exercicio empenho_categ empenho_data  \\\n",
       "750          2795           2025        CREDOR   25/04/2025   \n",
       "3534        11204           2024         FOLHA   19/12/2024   \n",
       "3598        11140           2024         FOLHA   19/12/2024   \n",
       "3599        11139           2024    PRECATORIO   18/12/2024   \n",
       "7354         7058           2024         FOLHA   30/07/2024   \n",
       "\n",
       "                                           empenho_hist  empenho_val  \\\n",
       "750    REFERENTE AO RECOLHIMENTO DE GUIA - PRECATÓRI...   4100000.00   \n",
       "3534   PELA DESPESA DE FOLHA DE PAGAMENTO EMPENHADA ...   1008285.77   \n",
       "3598   PELA DESPESA DE FOLHA DE PAGAMENTO EMPENHADA ...   1291928.40   \n",
       "3599                                  PRECATÓRIOS 2024.   2741343.50   \n",
       "7354   PELA DESPESA DE FOLHA DE PAGAMENTO EMPENHADA ...   1026816.49   \n",
       "\n",
       "      valor_liquid  valor_pago  \n",
       "750     4100000.00  4100000.00  \n",
       "3534    1008285.77  1008285.77  \n",
       "3598    1291928.40  1291928.40  \n",
       "3599    2741343.50  2741343.50  \n",
       "7354    1026816.49  1026816.49  "
      ]
     },
     "execution_count": 15,
     "metadata": {},
     "output_type": "execute_result"
    }
   ],
   "source": [
    "superior_milhao"
   ]
  },
  {
   "cell_type": "code",
   "execution_count": null,
   "id": "893073dd-e0e6-4d6d-8c65-d4b868368806",
   "metadata": {
    "editable": true,
    "slideshow": {
     "slide_type": ""
    },
    "tags": []
   },
   "outputs": [],
   "source": [
    "pd.DataFrame(base_despesas_df['empenho_hist'].value_counts()).plot(kind='bar')"
   ]
  },
  {
   "cell_type": "code",
   "execution_count": null,
   "id": "cc21916e-0762-4157-8d6f-9c893c63bbd0",
   "metadata": {},
   "outputs": [],
   "source": []
  },
  {
   "cell_type": "code",
   "execution_count": null,
   "id": "44151342-3897-4389-a3b0-88dff56d40d5",
   "metadata": {},
   "outputs": [],
   "source": []
  }
 ],
 "metadata": {
  "kernelspec": {
   "display_name": "Python 3 (ipykernel)",
   "language": "python",
   "name": "python3"
  },
  "language_info": {
   "codemirror_mode": {
    "name": "ipython",
    "version": 3
   },
   "file_extension": ".py",
   "mimetype": "text/x-python",
   "name": "python",
   "nbconvert_exporter": "python",
   "pygments_lexer": "ipython3",
   "version": "3.13.4"
  },
  "vscode": {
   "interpreter": {
    "hash": "b0fa6594d8f4cbf19f97940f81e996739fb7646882a419484c72d19e05852a7e"
   }
  }
 },
 "nbformat": 4,
 "nbformat_minor": 5
}
